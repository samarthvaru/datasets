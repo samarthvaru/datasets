{
  "metadata": {
    "kernelspec": {
      "name": "python",
      "display_name": "Python (Pyodide)",
      "language": "python"
    },
    "language_info": {
      "codemirror_mode": {
        "name": "ipython",
        "version": 3
      },
      "file_extension": ".py",
      "mimetype": "text/x-python",
      "name": "python",
      "nbconvert_exporter": "python",
      "pygments_lexer": "ipython3",
      "version": "3.5.5"
    }
  },
  "nbformat_minor": 4,
  "nbformat": 4,
  "cells": [
    {
      "cell_type": "markdown",
      "source": "# My Jupyter Notebook on IBM Data Science Experience",
      "metadata": {}
    },
    {
      "cell_type": "markdown",
      "source": "__Samarth Varu__\n- Computer Science Student",
      "metadata": {}
    },
    {
      "cell_type": "markdown",
      "source": "*I am interested in data science because I want to develop skills.",
      "metadata": {}
    },
    {
      "cell_type": "markdown",
      "source": "### Calculate the sum of 1 plus 1",
      "metadata": {}
    },
    {
      "cell_type": "code",
      "source": "1 + 1",
      "metadata": {},
      "execution_count": 4,
      "outputs": [
        {
          "execution_count": 4,
          "output_type": "execute_result",
          "data": {
            "text/plain": [
              "2"
            ]
          },
          "metadata": {}
        }
      ]
    },
    {
      "cell_type": "markdown",
      "source": "1. Hello\n2. Everyone",
      "metadata": {}
    },
    {
      "cell_type": "markdown",
      "source": "____________________",
      "metadata": {}
    },
    {
      "cell_type": "markdown",
      "source": "- this\n- is\n- ~~not~~\n- right",
      "metadata": {}
    },
    {
      "cell_type": "markdown",
      "source": "| Student | Grade |\n| ---   | ---  |\n| John Smith | 90 |\n| Jane Doe | 95 |\n",
      "metadata": {}
    },
    {
      "cell_type": "markdown",
      "source": ">*\"Be Happy\"*  - John Smith",
      "metadata": {}
    },
    {
      "cell_type": "code",
      "source": "",
      "metadata": {},
      "execution_count": null,
      "outputs": []
    }
  ]
}